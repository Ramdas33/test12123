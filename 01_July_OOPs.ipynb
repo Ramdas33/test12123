{
 "cells": [
  {
   "cell_type": "markdown",
   "metadata": {},
   "source": [
    "1. What is the primary goal of Object-Oriented Programming (OOP)?"
   ]
  },
  {
   "cell_type": "code",
   "execution_count": null,
   "metadata": {},
   "outputs": [],
   "source": [
    "'''Ans:- The primary goal of Object-Oriented Programming (OOP) is to model real-world entities, problems, or systems in a way that mimics the natural world, making it easier to design, understand, and maintain complex software systems. \n",
    "OOP achieves this goal by organizing code into objects, which are instances of classes representing the entities or concepts in the problem domain.\n",
    "\n",
    "The four main principles of OOP are:\n",
    "1) Encapsulation: Encapsulation is the bundling of data (attributes) and methods (functions) that operate on the data within a single unit called an object.\n",
    "2) Abstraction: Abstraction allows complex systems to be represented at a higher level by defining classes that provide a simplified view of an entity's essential features and behaviors.\n",
    "3) Inheritance: Inheritance enables the creation of new classes (derived classes or subclasses) based on existing classes (base classes or superclasses).\n",
    "4) Polymorphism: Polymorphism allows objects of different classes to be treated as instances of a common superclass. It enables flexibility and generality in code, as the same method can be used to operate on objects of various types, provided they share a common interface.'''"
   ]
  },
  {
   "cell_type": "markdown",
   "metadata": {},
   "source": [
    "2. What is an object in Python?"
   ]
  },
  {
   "cell_type": "code",
   "execution_count": null,
   "metadata": {},
   "outputs": [],
   "source": [
    "'''In Python, an object is a fundamental concept and a key element of Object-Oriented Programming (OOP). \n",
    "An object is an instance of a class and represents a specific entity, data structure, or concept in the program's problem domain. \n",
    "In simpler terms, an object is a self-contained unit that contains both data (attributes) and functions (methods) that operate on that data.\n",
    "\n",
    "Here are some key points about objects in Python:\n",
    "1) Class: A class is a blueprint or a template that defines the structure and behavior of objects. It serves as a blueprint for creating objects with specific characteristics. \n",
    "2) Instance: When you create an object based on a class, it is called an instance or an object instance. Each instance is independent of others and has its own unique set of attributes and methods. \n",
    "3) Attributes: Attributes are data members that store information about the object's state. They represent the characteristics or properties of the object. \n",
    "4) Methods: Methods are functions defined within the class that operate on the object's attributes and provide behavior specific to that class. \n",
    "5) Behavior: An object's behavior is determined by its methods. Methods define what an object can do or how it responds to certain actions or events.\n",
    "'''"
   ]
  },
  {
   "cell_type": "markdown",
   "metadata": {},
   "source": [
    "3. What is a class in Python?"
   ]
  },
  {
   "cell_type": "code",
   "execution_count": null,
   "metadata": {},
   "outputs": [],
   "source": [
    "'''A class is a blueprint or a template that defines the structure and behavior of objects.\n",
    "It serves as a blueprint for creating objects with specific characteristics.\n",
    "In other words, a class is a user-defined data type that encapsulates attributes and methods that define the behavior of objects of that class.'''"
   ]
  },
  {
   "cell_type": "markdown",
   "metadata": {},
   "source": [
    "4. What are attributes and methods in a class?\n"
   ]
  },
  {
   "cell_type": "code",
   "execution_count": null,
   "metadata": {},
   "outputs": [],
   "source": [
    "'''Attributes: Attributes are data members that store information about the object's state. \n",
    "They represent the characteristics or properties of the object. \n",
    "Attributes are accessed using the dot notation, e.g., object_name.attribute.\n",
    "\n",
    "Methods: Methods are functions defined within the class that operate on the object's attributes and provide behavior specific to that class. \n",
    "Methods allow objects to perform actions and interact with other objects or the external environment.'''"
   ]
  },
  {
   "cell_type": "markdown",
   "metadata": {},
   "source": [
    "5. What is the difference between class variables and instance variables in Python?\n"
   ]
  },
  {
   "cell_type": "code",
   "execution_count": null,
   "metadata": {},
   "outputs": [],
   "source": [
    "'''In Python, class variables and instance variables are both types of variables that are used in object-oriented programming, but they serve different purposes and have distinct scopes and behaviors.\n",
    "\n",
    "1) Class Variables:\n",
    "Class variables are defined within the class and are shared by all instances (objects) of that class. \n",
    "They are associated with the class itself rather than any particular instance.\n",
    "Class variables are declared outside of any method in the class and are typically placed at the top of the class definition.\n",
    "When a class variable is modified in one instance, the change is reflected in all other instances, as they all share the same class-level variable.\n",
    "Class variables are accessed using the class name itself (e.g., ClassName.variable_name) or using an instance (e.g., instance_name.variable_name). \n",
    "If an instance variable with the same name exists, it takes precedence over the class variable when accessed through that instance.\n",
    "\n",
    "2) Instance Variables:\n",
    "Instance variables are unique to each instance of a class. \n",
    "They are defined within the class methods, especially within the __init__ method, and they store data specific to each object.\n",
    "Each instance (object) of the class gets its own copy of instance variables. \n",
    "Changes made to one instance variable do not affect other instances.\n",
    "Instance variables are accessed using the instance name (e.g., instance_name.variable_name) and are primarily used to store data that varies from object to object.'''"
   ]
  },
  {
   "cell_type": "markdown",
   "metadata": {},
   "source": [
    "6. What is the purpose of the self parameter in Python class methods?"
   ]
  },
  {
   "cell_type": "code",
   "execution_count": null,
   "metadata": {},
   "outputs": [],
   "source": [
    "'''Ans:- The self parameter in Python class methods serves as a reference to the instance of the class (object) on which the method is being called. \n",
    "It is a convention in Python to use the name self for this parameter, although you can technically use any valid variable name. \n",
    "The self parameter is passed implicitly to every instance method defined within a class.\n",
    "The purpose of the self parameter is to enable object-oriented behavior and encapsulation within the class. \n",
    "With self we can:\n",
    "Access and modify instance variables: Inside the method, we can use self.variable_name to access or modify the instance variables specific to that object.\n",
    "\n",
    "Call other instance methods: Within a method, you can call other methods of the same class using self.method_name().\n",
    "\n",
    "Create new instance variables: You can create new instance variables within a method using self.new_variable = value.\n",
    "\n",
    "Interact with the object's state: The self parameter allows methods to access the state of the object (its attributes) and perform actions based on that state.\n",
    "'''"
   ]
  },
  {
   "cell_type": "code",
   "execution_count": 1,
   "metadata": {},
   "outputs": [
    {
     "name": "stdout",
     "output_type": "stream",
     "text": [
      "5\n",
      "15\n"
     ]
    }
   ],
   "source": [
    "#Example of the use of the self parameter in a Python class:\n",
    "class MyClass:\n",
    "    def __init__(self, value):\n",
    "        self.value = value\n",
    "\n",
    "    def add_value(self, number):\n",
    "        self.value += number\n",
    "\n",
    "    def get_value(self):\n",
    "        return self.value\n",
    "\n",
    "obj1 = MyClass(5)\n",
    "print(obj1.get_value())\n",
    "\n",
    "obj1.add_value(10)\n",
    "print(obj1.get_value())"
   ]
  },
  {
   "cell_type": "markdown",
   "metadata": {},
   "source": [
    "7. For a library management system, you have to design the \"Book\" class with OOP\n",
    "principles in mind. The “Book” class will have following attributes:"
   ]
  },
  {
   "cell_type": "code",
   "execution_count": 14,
   "metadata": {},
   "outputs": [
    {
     "name": "stdout",
     "output_type": "stream",
     "text": [
      "Title of Book: Chhava\n",
      "Author of book: Shivaji Sawant\n",
      "ISBN: 10000\n",
      "Publication Year: 1980\n",
      "Available copies: 5\n",
      "Book Chhava checked out 4 copies are remaining\n",
      "Book Chhava checked out 3 copies are remaining\n",
      "Book Chhava returned now 4 copies are available\n",
      "...............\n",
      "Title of Book: Chhava\n",
      "Author of book: Shivaji Sawant\n",
      "ISBN: 10000\n",
      "Publication Year: 1980\n",
      "Available copies: 4\n"
     ]
    }
   ],
   "source": [
    "class Book:\n",
    "    def __init__(self,title,author,isbn,publication_year,available_copies):\n",
    "        self.title= title\n",
    "        self.author= author\n",
    "        self.isbn= isbn\n",
    "        self.publication_year= publication_year\n",
    "        self.available_copies= available_copies\n",
    "\n",
    "    #Decrements the available copies by one if there are copies available for checkout\n",
    "    def check_out(self):\n",
    "        if self.available_copies > 0:\n",
    "            self.available_copies -= 1\n",
    "            print(f\"Book {self.title} checked out {self.available_copies} copies are remaining\")\n",
    "        else:\n",
    "            print(f\"Can not check out book there are {self.available_copies} copies are available\")\n",
    "\n",
    "     #Increments the available copies by one when a book is returned.\n",
    "    def return_book(self):     \n",
    "        self.available_copies += 1\n",
    "        print(f\"Book {self.title} returned now {self.available_copies} copies are available\")\n",
    "    \n",
    "    #Displays the information about the book, including its attributes and the number of available copies.\n",
    "    def display_book_info(self):\n",
    "        print(f\"Title of Book: {self.title}\")\n",
    "        print(f\"Author of book: {self.author}\")\n",
    "        print(f\"ISBN: {self.isbn}\")\n",
    "        print(f\"Publication Year: {self.publication_year}\")\n",
    "        print(f\"Available copies: {self.available_copies}\")\n",
    "    \n",
    "book1=Book(\"Chhava\", \"Shivaji Sawant\", \"10000\", 1980, 5)\n",
    "\n",
    "book1.display_book_info()\n",
    "book1.check_out()\n",
    "book1.check_out()\n",
    "book1.return_book()\n",
    "print(\"...............\")\n",
    "book1.display_book_info()\n",
    "\n"
   ]
  },
  {
   "cell_type": "markdown",
   "metadata": {},
   "source": [
    "8. For a ticket booking system, you have to design the \"Ticket\" class with OOP\n",
    "principles in mind. The “Ticket” class should have the following attributes:"
   ]
  },
  {
   "cell_type": "code",
   "execution_count": 21,
   "metadata": {},
   "outputs": [
    {
     "name": "stdout",
     "output_type": "stream",
     "text": [
      "Ticket ID: 123AS123\n",
      "Event Name: Meeting\n",
      "Event Date: 11 June 2023\n",
      "Venue: Delhi\n",
      "Seat Number: 14\n",
      "Price: 20000\n",
      "Reservation Status: False\n",
      "...........................\n",
      "Reservation Confirmed!\n",
      "...........................\n",
      "Ticket ID: 123AS123\n",
      "Event Name: Meeting\n",
      "Event Date: 11 June 2023\n",
      "Venue: Delhi\n",
      "Seat Number: 14\n",
      "Price: 20000\n",
      "Reservation Status: True\n",
      "...........................\n",
      "Reservation Cancelled successfully!\n",
      "...........................\n",
      "Ticket ID: 123AS123\n",
      "Event Name: Meeting\n",
      "Event Date: 11 June 2023\n",
      "Venue: Delhi\n",
      "Seat Number: 14\n",
      "Price: 20000\n",
      "Reservation Status: False\n",
      "...........................\n",
      "This Ticket is available for reservation.\n"
     ]
    }
   ],
   "source": [
    "class Ticket:\n",
    "    def __init__(self, ticket_id, event_name, event_date, venue, seat_number, price, is_reserved):\n",
    "        self.ticket_id= ticket_id\n",
    "        self.event_name= event_name\n",
    "        self.event_date= event_date\n",
    "        self.venue= venue\n",
    "        self.seat_number= seat_number\n",
    "        self.price= price\n",
    "        self.is_reserved= is_reserved\n",
    "\n",
    "    # Marks the ticket as reserved if it is not already reserved\n",
    "    def reserve_ticket(self):\n",
    "        if self.is_reserved == False:\n",
    "            self.is_reserved=True\n",
    "            print(\"Reservation Confirmed!\")\n",
    "        else:\n",
    "            print(\"This Ticket is already reserved.\")\n",
    "\n",
    "    # Cancels the reservation of the ticket if it is already reserved.\n",
    "    def cancel_reservation(self):\n",
    "        if self.is_reserved == True:\n",
    "            self.is_reserved=False\n",
    "            print(\"Reservation Cancelled successfully!\")\n",
    "        else:\n",
    "            print(\"This Ticket is available for reservation.\")\n",
    "\n",
    "    # Displays the information about the ticket\n",
    "    def display_ticket_info(self):\n",
    "        print(f\"Ticket ID: {self.ticket_id}\")\n",
    "        print(f\"Event Name: {self.event_name}\")\n",
    "        print(f\"Event Date: {self.event_date}\")\n",
    "        print(f\"Venue: {self.venue}\")\n",
    "        print(f\"Seat Number: {self.seat_number}\")\n",
    "        print(f\"Price: {self.price}\")\n",
    "        print(f\"Reservation Status: {self.is_reserved}\")\n",
    "\n",
    "ticket1= Ticket(\"123AS123\", \"Meeting\", \"11 June 2023\", \"Delhi\", 14, 20000, False)\n",
    "\n",
    "ticket1.display_ticket_info()\n",
    "print(\"...........................\")\n",
    "ticket1.reserve_ticket()\n",
    "print(\"...........................\")\n",
    "ticket1.display_ticket_info()\n",
    "print(\"...........................\")\n",
    "ticket1.cancel_reservation()\n",
    "print(\"...........................\")\n",
    "ticket1.display_ticket_info()\n",
    "print(\"...........................\")\n",
    "ticket1.cancel_reservation()"
   ]
  },
  {
   "cell_type": "markdown",
   "metadata": {},
   "source": [
    " 9. You are creating a shopping cart for an e-commerce website. Using OOP to model\n",
    "the \"ShoppingCart\" functionality the class should contain following attributes and\n",
    "methods:\n"
   ]
  },
  {
   "cell_type": "code",
   "execution_count": 28,
   "metadata": {},
   "outputs": [
    {
     "name": "stdout",
     "output_type": "stream",
     "text": [
      "Belt added to Shopping cart\n",
      "Wallet added to Shopping cart\n",
      "Oil added to Shopping cart\n",
      "Items in shopping cart\n",
      "1 - Belt\n",
      "2 - Wallet\n",
      "3 - Oil\n",
      "Wallet removed from shopping cart\n",
      "Items in shopping cart\n",
      "1 - Belt\n",
      "2 - Oil\n"
     ]
    }
   ],
   "source": [
    "class ShoppingCart:\n",
    "    def __init__(self):\n",
    "        self.items= []\n",
    "\n",
    "    # Adds an item to the shopping cart by appending it to the list of items.\n",
    "    def add_item(self,item):\n",
    "        self.items.append(item)\n",
    "        print(f\"{item} added to Shopping cart\")\n",
    "    \n",
    "    # Removes an item from the shopping cart if it exists in the list.\n",
    "    def remove_item(self, item):\n",
    "        if item in self.items:\n",
    "            self.items.remove(item)\n",
    "            print(f\"{item} removed from shopping cart\")\n",
    "        else:\n",
    "            print(f\"{item} not found in cart\")\n",
    "\n",
    "    # Displays the items currently present in the shopping cart\n",
    "    def view_cart(self):\n",
    "        if self.items:\n",
    "            print(\"Items in shopping cart\")\n",
    "            num=1\n",
    "            for item in self.items:\n",
    "                print(f\"{num} - {item}\")\n",
    "                num += 1\n",
    "        else:\n",
    "            print(\"Shopping cart is empty\")\n",
    "\n",
    "    # Clears all items from the shopping cart\n",
    "    def clear_cart(self):\n",
    "        self.items=[]\n",
    "        print(\"All items removed from cart!\")\n",
    "\n",
    "cart1= ShoppingCart()\n",
    "cart1.add_item(\"Belt\")\n",
    "cart1.add_item(\"Wallet\")\n",
    "cart1.add_item(\"Oil\")\n",
    "\n",
    "cart1.view_cart()\n",
    "\n",
    "cart1.remove_item(\"Wallet\")\n",
    "cart1.view_cart()"
   ]
  },
  {
   "cell_type": "markdown",
   "metadata": {},
   "source": [
    "10. Imagine a school management system. You have to design the \"Student\" class using\n",
    "OOP concepts.The “Student” class has the following attributes:"
   ]
  },
  {
   "cell_type": "code",
   "execution_count": 30,
   "metadata": {},
   "outputs": [
    {
     "name": "stdout",
     "output_type": "stream",
     "text": [
      "Attendance for Ramdas Pawar update for 2010-07-20: present\n",
      "Attendance for Ramdas Pawar update for 2010-07-21: absent\n",
      "Attendance for Ramdas Pawar update for 2010-07-22: present\n",
      "Attendance for Dipali Sakpal update for 2010-07-20: absent\n",
      "Attendance for Dipali Sakpal update for 2010-07-21: absent\n",
      "Attendance for Dipali Sakpal update for 2010-07-22: present\n",
      ".......................................\n",
      "{'2010-07-20': 'present', '2010-07-21': 'absent', '2010-07-22': 'present'}\n",
      "{'2010-07-20': 'absent', '2010-07-21': 'absent', '2010-07-22': 'present'}\n",
      "......................................................\n",
      "Ramdas Pawar's average attendance: 66.66666666666666%\n",
      "Dipali Sakpal's average attendance: 33.33333333333333%\n"
     ]
    }
   ],
   "source": [
    "class Student:\n",
    "    def __init__(self, name, age, grade, student_id):\n",
    "        self.name= name\n",
    "        self.age= age\n",
    "        self.grade= grade\n",
    "        self.student_id= student_id\n",
    "        self.attendance= {}\n",
    "    \n",
    "    def update_attendance(self, date, status):\n",
    "        if status.lower() in ['present', 'absent']:\n",
    "            self.attendance[date] = status.lower()\n",
    "            print(f\"Attendance for {self.name} update for {date}: {status}\")\n",
    "        else:\n",
    "            print(\"Invalid status. Please provide 'present' or 'absent'\")\n",
    "\n",
    "    def get_attendance(self):\n",
    "        return self.attendance\n",
    "    \n",
    "    def get_average_attendance(self):\n",
    "        total_days = len(self.attendance)\n",
    "        if total_days == 0:\n",
    "            return 0.0\n",
    "        \n",
    "        present_count = sum(1 for status in self.attendance.values() if status == 'present')\n",
    "        average_attendance = (present_count / total_days) * 100\n",
    "        return average_attendance\n",
    "    \n",
    "student1 = Student(\"Ramdas Pawar\", 15, \"A Grade\", \"12345\")\n",
    "student2 = Student(\"Dipali Sakpal\", 16, \"B Grade\", \"67890\")\n",
    "\n",
    "student1.update_attendance(\"2010-07-20\", \"present\")\n",
    "student1.update_attendance(\"2010-07-21\", \"absent\")\n",
    "student1.update_attendance(\"2010-07-22\", \"present\")\n",
    "\n",
    "student2.update_attendance(\"2010-07-20\", \"absent\")\n",
    "student2.update_attendance(\"2010-07-21\", \"absent\")\n",
    "student2.update_attendance(\"2010-07-22\", \"present\")\n",
    "\n",
    "print(\".......................................\")\n",
    "print(student1.get_attendance())\n",
    "print(student2.get_attendance())\n",
    "\n",
    "print(\"......................................................\")\n",
    "print(f\"{student1.name}'s average attendance: {student1.get_average_attendance()}%\")\n",
    "print(f\"{student2.name}'s average attendance: {student2.get_average_attendance()}%\")"
   ]
  }
 ],
 "metadata": {
  "kernelspec": {
   "display_name": "venv",
   "language": "python",
   "name": "python3"
  },
  "language_info": {
   "codemirror_mode": {
    "name": "ipython",
    "version": 3
   },
   "file_extension": ".py",
   "mimetype": "text/x-python",
   "name": "python",
   "nbconvert_exporter": "python",
   "pygments_lexer": "ipython3",
   "version": "3.11.0"
  },
  "orig_nbformat": 4
 },
 "nbformat": 4,
 "nbformat_minor": 2
}
